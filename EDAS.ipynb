{
  "nbformat": 4,
  "nbformat_minor": 0,
  "metadata": {
    "colab": {
      "provenance": [],
      "authorship_tag": "ABX9TyMFz+2iDBZr7Lv0p+j+RUC7",
      "include_colab_link": true
    },
    "kernelspec": {
      "name": "python3",
      "display_name": "Python 3"
    },
    "language_info": {
      "name": "python"
    }
  },
  "cells": [
    {
      "cell_type": "markdown",
      "metadata": {
        "id": "view-in-github",
        "colab_type": "text"
      },
      "source": [
        "<a href=\"https://colab.research.google.com/github/yolandaeka/SBP/blob/main/EDAS.ipynb\" target=\"_parent\"><img src=\"https://colab.research.google.com/assets/colab-badge.svg\" alt=\"Open In Colab\"/></a>"
      ]
    },
    {
      "cell_type": "code",
      "execution_count": 6,
      "metadata": {
        "colab": {
          "base_uri": "https://localhost:8080/"
        },
        "id": "YzIRF8PjYjB2",
        "outputId": "6ef1e8eb-9d22-443c-f76b-64bbf1e009b0"
      },
      "outputs": [
        {
          "output_type": "stream",
          "name": "stdout",
          "text": [
            "Metode EDAS:\n",
            "Alternatif: A4, Skor: 0.96875\n",
            "Alternatif: A2, Skor: 0.7857142857142857\n",
            "Alternatif: A1, Skor: 0.5431547619047619\n",
            "Alternatif: A3, Skor: 0.0\n"
          ]
        }
      ],
      "source": [
        "\n",
        "# Metode EDAS\n",
        "\n",
        "import numpy as np\n",
        "\n",
        "def calculate_edas(alternatives, criteria, weights, ratings, is_cost):\n",
        "    # Menghitung nilai rata-rata untuk setiap kriteria\n",
        "    avg_values = {criterion: np.mean([ratings[alt][criterion] for alt in alternatives]) for criterion in criteria}\n",
        "\n",
        "    # Menghitung PD dan ND\n",
        "    pd = {alt: {} for alt in alternatives}\n",
        "    nd = {alt: {} for alt in alternatives}\n",
        "    for alt in alternatives:\n",
        "        for criterion in criteria:\n",
        "            if is_cost[criterion]:  # Cost criteria\n",
        "                pd[alt][criterion] = max(0, (avg_values[criterion] - ratings[alt][criterion]) / avg_values[criterion])\n",
        "                nd[alt][criterion] = max(0, (ratings[alt][criterion] - avg_values[criterion]) / avg_values[criterion])\n",
        "            else:  # Benefit criteria\n",
        "                pd[alt][criterion] = max(0, (ratings[alt][criterion] - avg_values[criterion]) / avg_values[criterion])\n",
        "                nd[alt][criterion] = max(0, (avg_values[criterion] - ratings[alt][criterion]) / avg_values[criterion])\n",
        "\n",
        "    # Menghitung SP dan SN\n",
        "    sp = {alt: sum(pd[alt][criterion] * weights[criterion] for criterion in criteria) for alt in alternatives}\n",
        "    sn = {alt: sum(nd[alt][criterion] * weights[criterion] for criterion in criteria) for alt in alternatives}\n",
        "\n",
        "    # Normalisasi SP dan SN\n",
        "    max_sp = max(sp.values())\n",
        "    max_sn = max(sn.values())\n",
        "    nsp = {alt: sp[alt] / max_sp for alt in alternatives}\n",
        "    nsn = {alt: 1 - (sn[alt] / max_sn) for alt in alternatives}\n",
        "\n",
        "    # Menghitung nilai AS\n",
        "    as_scores = {alt: 0.5 * (nsp[alt] + nsn[alt]) for alt in alternatives}\n",
        "\n",
        "    return as_scores\n",
        "\n",
        "# Contoh Penggunaan Fungsi\n",
        "alternatives = ['A1', 'A2', 'A3', 'A4']\n",
        "criteria = ['C1', 'C2', 'C3', 'C4']\n",
        "weights = {'C1': 0.30, 'C2': 0.30, 'C3': 0.25, 'C4': 0.15}\n",
        "ratings = {\n",
        "    'A1': {'C1': 4, 'C2': 5, 'C3': 3, 'C4': 1},\n",
        "    'A2': {'C1': 4, 'C2': 3, 'C3': 2, 'C4': 3},\n",
        "    'A3': {'C1': 3, 'C2': 4, 'C3': 4, 'C4': 2},\n",
        "    'A4': {'C1': 5, 'C2': 4, 'C3': 3, 'C4': 3}\n",
        "}\n",
        "is_cost = {'C1': False, 'C2': False, 'C3': True, 'C4': False}\n",
        "\n",
        "as_scores = calculate_edas(alternatives, criteria, weights, ratings, is_cost)\n",
        "as_scores = dict(sorted(as_scores.items(), key=lambda item: item[1], reverse=True))\n",
        "\n",
        "print(\"Metode EDAS:\")\n",
        "for alternative, score in as_scores.items():\n",
        "    print(f\"Alternatif: {alternative}, Skor: {score}\")\n"
      ]
    }
  ]
}