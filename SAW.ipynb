{
  "nbformat": 4,
  "nbformat_minor": 0,
  "metadata": {
    "colab": {
      "provenance": [],
      "authorship_tag": "ABX9TyN1EFpM5FPvVzMuIqtdvNDG",
      "include_colab_link": true
    },
    "kernelspec": {
      "name": "python3",
      "display_name": "Python 3"
    },
    "language_info": {
      "name": "python"
    }
  },
  "cells": [
    {
      "cell_type": "markdown",
      "metadata": {
        "id": "view-in-github",
        "colab_type": "text"
      },
      "source": [
        "<a href=\"https://colab.research.google.com/github/yolandaeka/SBP/blob/main/SAW.ipynb\" target=\"_parent\"><img src=\"https://colab.research.google.com/assets/colab-badge.svg\" alt=\"Open In Colab\"/></a>"
      ]
    },
    {
      "cell_type": "code",
      "execution_count": 1,
      "metadata": {
        "colab": {
          "base_uri": "https://localhost:8080/"
        },
        "id": "dJRAHAI6U5st",
        "outputId": "59301549-f264-41e1-88fa-6ace4cf66704"
      },
      "outputs": [
        {
          "output_type": "stream",
          "name": "stdout",
          "text": [
            "Metode SAW:\n",
            "Alternatif: A4, Skor: 0.8775000000000001\n",
            "Alternatif: A1, Skor: 0.7775000000000001\n",
            "Alternatif: A3, Skor: 0.7699999999999999\n",
            "Alternatif: A2, Skor: 0.695\n"
          ]
        }
      ],
      "source": [
        "# Data Input\n",
        "alternatives = ['A1', 'A2', 'A3', 'A4']\n",
        "criteria = ['C1', 'C2', 'C3', 'C4']\n",
        "weights = {'C1': 0.30, 'C2': 0.30, 'C3': 0.25, 'C4': 0.15}\n",
        "ratings = {\n",
        "    'A1': {'C1': 4, 'C2': 5, 'C3': 3, 'C4': 1},\n",
        "    'A2': {'C1': 4, 'C2': 3, 'C3': 2, 'C4': 3},\n",
        "    'A3': {'C1': 3, 'C2': 4, 'C3': 4, 'C4': 2},\n",
        "    'A4': {'C1': 5, 'C2': 4, 'C3': 3, 'C4': 3}\n",
        "}\n",
        "\n",
        "# Metode SAW\n",
        "\n",
        "def calculate_saw(alternatives, criteria, weights, ratings):\n",
        "    # Normalisasi Matriks\n",
        "    max_values = {criterion: max([ratings[alt][criterion] for alt in alternatives]) for criterion in criteria}\n",
        "\n",
        "    normalized_ratings = {\n",
        "        alt: {criterion: ratings[alt][criterion] / max_values[criterion] for criterion in criteria}\n",
        "        for alt in alternatives\n",
        "    }\n",
        "\n",
        "    # Hitung Nilai SAW\n",
        "    saw_scores = {\n",
        "        alt: sum(normalized_ratings[alt][criterion] * weights[criterion] for criterion in criteria)\n",
        "        for alt in alternatives\n",
        "    }\n",
        "\n",
        "    return saw_scores\n",
        "\n",
        "saw_scores = calculate_saw(alternatives, criteria, weights, ratings)\n",
        "saw_scores = dict(sorted(saw_scores.items(), key=lambda item: item[1], reverse=True))\n",
        "\n",
        "print(\"Metode SAW:\")\n",
        "for alternative, score in saw_scores.items():\n",
        "    print(f\"Alternatif: {alternative}, Skor: {score}\")\n"
      ]
    }
  ]
}