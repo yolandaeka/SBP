{
  "nbformat": 4,
  "nbformat_minor": 0,
  "metadata": {
    "colab": {
      "provenance": [],
      "authorship_tag": "ABX9TyMiOl2/7pYSV42W60QFEuUu",
      "include_colab_link": true
    },
    "kernelspec": {
      "name": "python3",
      "display_name": "Python 3"
    },
    "language_info": {
      "name": "python"
    }
  },
  "cells": [
    {
      "cell_type": "markdown",
      "metadata": {
        "id": "view-in-github",
        "colab_type": "text"
      },
      "source": [
        "<a href=\"https://colab.research.google.com/github/yolandaeka/SBP/blob/main/CF_SBP.ipynb\" target=\"_parent\"><img src=\"https://colab.research.google.com/assets/colab-badge.svg\" alt=\"Open In Colab\"/></a>"
      ]
    },
    {
      "cell_type": "code",
      "execution_count": null,
      "metadata": {
        "colab": {
          "base_uri": "https://localhost:8080/"
        },
        "id": "tPUu28QBh9gD",
        "outputId": "c52a9079-b397-431f-e701-c943cb81f655"
      },
      "outputs": [
        {
          "output_type": "stream",
          "name": "stdout",
          "text": [
            "Perhitungan CFpakar dan CFgejala:\n",
            "CFpakar(G01): 0.80\n",
            "CFgejala(G01): 0.64\n",
            "\n",
            "CFpakar(G02): 0.60\n",
            "CFgejala(G02): 0.36\n",
            "\n",
            "CFpakar(G03): 0.55\n",
            "CFgejala(G03): 0.22\n",
            "\n",
            "CFpakar(G04): 0.65\n",
            "CFgejala(G04): 0.26\n",
            "\n",
            "Persentase keyakinan: 86.70%\n"
          ]
        }
      ],
      "source": [
        "# Dictionary untuk menyimpan data penyakit\n",
        "penyakit = {\n",
        "    \"P01\": \"Pneumonia\",\n",
        "    \"P02\": \"Kanker Paru-Paru\",\n",
        "    \"P03\": \"Tuberkulosis (TBC)\",\n",
        "    \"P04\": \"Bronkitis\",\n",
        "    \"P05\": \"Penyakit Paru Obstruktif Kronik\",\n",
        "    \"P06\": \"Asma\",\n",
        "    \"P07\": \"Emfisema\",\n",
        "    \"P08\": \"Pneumotoraks\",\n",
        "    \"P09\": \"Pleura\"\n",
        "}\n",
        "\n",
        "# Dictionary untuk menyimpan data gejala\n",
        "gejala = {\n",
        "    \"G01\": \"Batuk yang diikuti sesak nafas\",\n",
        "    \"G02\": \"Sakit pada dada\",\n",
        "    \"G03\": \"Sesak nafas\",\n",
        "    \"G04\": \"Demam tinggi\",\n",
        "    \"G05\": \"Mual atau muntah\",\n",
        "    \"G06\": \"Batuk berdahak/kering\",\n",
        "    \"G07\": \"Batuk berdarah (hemoptisis)\",\n",
        "    \"G08\": \"Susah menelan\",\n",
        "    \"G09\": \"Mengi\",\n",
        "    \"G10\": \"Nyeri dada\",\n",
        "    \"G11\": \"Pembengkakan pada muka dan leher\",\n",
        "    \"G12\": \"Suara serak\",\n",
        "    \"G13\": \"Anoreksia\",\n",
        "    \"G14\": \"Berkeringat dingin\",\n",
        "    \"G15\": \"Berkeringat di malam hari\",\n",
        "    \"G16\": \"Demam\",\n",
        "    \"G17\": \"Perasaan tidak sehat\",\n",
        "    \"G18\": \"Penurunan berat badan\",\n",
        "    \"G19\": \"Batuk berulang dan berdahak > 3 bulan\",\n",
        "    \"G20\": \"Batuk dipagi hari\",\n",
        "    \"G21\": \"Dahak berlebihan dan kental\",\n",
        "    \"G22\": \"Sesak nafas berat saat udara dingin\",\n",
        "    \"G23\": \"Sesak nafas ketika beraktivitas\",\n",
        "    \"G24\": \"Dahak yang banyak\",\n",
        "    \"G25\": \"Sesak nafas tidak terdapat mengi\",\n",
        "    \"G26\": \"Rasa sakit yang tidak stabil didada\",\n",
        "    \"G27\": \"Detak jantung yang cepat/berdebar\",\n",
        "    \"G28\": \"Kulit membiru\",\n",
        "    \"G29\": \"Badan mengigil\"\n",
        "}\n",
        "\n",
        "# Rule berdasarkan gejala yang menyebabkan Pneumonia\n",
        "rule = {\n",
        "    \"Rule1\": [\"G01\", \"G02\", \"G03\", \"G04\", \"G05\"]\n",
        "}\n",
        "\n",
        "# Nilai MB dan MD untuk masing-masing gejala\n",
        "nilai_gejala = {\n",
        "    \"G01\": {\"MB\": 1, \"MD\": 0.2},\n",
        "    \"G02\": {\"MB\": 0.8, \"MD\": 0.2},\n",
        "    \"G03\": {\"MB\": 0.7, \"MD\": 0.15},\n",
        "    \"G04\": {\"MB\": 0.7, \"MD\": 0.05}\n",
        "}\n",
        "\n",
        "# Nilai CFuser untuk gejala yang dirasakan user\n",
        "CFuser = {\n",
        "    \"G01\": 0.8,\n",
        "    \"G02\": 0.6,\n",
        "    \"G03\": 0.4,\n",
        "    \"G04\": 0.4\n",
        "}\n",
        "\n",
        "# Menghitung CFpakar dan CFgejala pakar\n",
        "CFpakar = {}\n",
        "CFgejala = {}\n",
        "\n",
        "print(\"Perhitungan CFpakar dan CFgejala:\")\n",
        "for gejala_id, gejala_value in CFuser.items():\n",
        "    MB = nilai_gejala[gejala_id][\"MB\"]\n",
        "    MD = nilai_gejala[gejala_id][\"MD\"]\n",
        "    CFpakar_val = (MB - MD)\n",
        "    CFpakar[gejala_id] = CFpakar_val\n",
        "    CFgejala_val = CFpakar_val * gejala_value\n",
        "    CFgejala[gejala_id] = CFgejala_val\n",
        "    print(f\"CFpakar({gejala_id}): {CFpakar_val:.2f}\")\n",
        "    print(f\"CFgejala({gejala_id}): {CFgejala_val:.2f}\")\n",
        "    print()\n",
        "\n",
        "# Menghitung CFcombine untuk setiap rule\n",
        "CFcombine = {}\n",
        "CFcombine[\"Rule1\"] = CFgejala[\"G01\"] + CFgejala[\"G02\"] * (1 - CFgejala[\"G01\"])\n",
        "CFcombine[\"Rule2\"] = CFcombine[\"Rule1\"] + CFgejala[\"G03\"] * (1 - CFcombine[\"Rule1\"])\n",
        "CFcombine[\"Rule3\"] = CFcombine[\"Rule2\"] + CFgejala[\"G04\"] * (1 - CFcombine[\"Rule2\"])\n",
        "\n",
        "# Menghitung persentase keyakinan CFpenyakit\n",
        "CFpenyakit = CFcombine[\"Rule3\"] * 100\n",
        "print(\"Persentase keyakinan: {:.2f}%\".format(CFpenyakit))\n"
      ]
    }
  ]
}